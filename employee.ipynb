{
 "cells": [
  {
   "cell_type": "code",
   "execution_count": 3,
   "id": "5df1c2ba-1e63-4521-86cf-3aba8aa61e75",
   "metadata": {},
   "outputs": [
    {
     "name": "stdout",
     "output_type": "stream",
     "text": [
      "Employee Name: Alice Johnson\n",
      "Employee Salary: 75000\n"
     ]
    }
   ],
   "source": [
    "# Define the class\n",
    "class Employee:\n",
    "    def __init__(self, name, salary):\n",
    "        self.name = name\n",
    "        self.salary = salary\n",
    "\n",
    "    def get_name(self):\n",
    "        return self.name\n",
    "\n",
    "    def get_salary(self):\n",
    "        return self.salary\n",
    "\n",
    "# Use the class\n",
    "emp1 = Employee(\"Alice Johnson\", 75000)\n",
    "print(\"Employee Name:\", emp1.get_name())\n",
    "print(\"Employee Salary:\", emp1.get_salary())"
   ]
  },
  {
   "cell_type": "code",
   "execution_count": null,
   "id": "f56ce8b4-7413-406d-ab1d-00f1e1856a19",
   "metadata": {},
   "outputs": [],
   "source": []
  }
 ],
 "metadata": {
  "kernelspec": {
   "display_name": "Python [conda env:base] *",
   "language": "python",
   "name": "conda-base-py"
  },
  "language_info": {
   "codemirror_mode": {
    "name": "ipython",
    "version": 3
   },
   "file_extension": ".py",
   "mimetype": "text/x-python",
   "name": "python",
   "nbconvert_exporter": "python",
   "pygments_lexer": "ipython3",
   "version": "3.12.7"
  }
 },
 "nbformat": 4,
 "nbformat_minor": 5
}
